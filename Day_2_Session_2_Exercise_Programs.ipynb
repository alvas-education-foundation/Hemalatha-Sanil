{
  "nbformat": 4,
  "nbformat_minor": 0,
  "metadata": {
    "colab": {
      "name": "Day 2_Session 2_Exercise Programs.ipynb",
      "provenance": [],
      "authorship_tag": "ABX9TyPzsG6AYpC8BXVYKSqxqkSW",
      "include_colab_link": true
    },
    "kernelspec": {
      "name": "python3",
      "display_name": "Python 3"
    }
  },
  "cells": [
    {
      "cell_type": "markdown",
      "metadata": {
        "id": "view-in-github",
        "colab_type": "text"
      },
      "source": [
        "<a href=\"https://colab.research.google.com/github/alvas-education-foundation/Hemalatha-Sanil/blob/master/Day_2_Session_2_Exercise_Programs.ipynb\" target=\"_parent\"><img src=\"https://colab.research.google.com/assets/colab-badge.svg\" alt=\"Open In Colab\"/></a>"
      ]
    },
    {
      "cell_type": "code",
      "metadata": {
        "id": "YBUZIbBhj23l",
        "colab_type": "code",
        "colab": {}
      },
      "source": [
        ""
      ],
      "execution_count": null,
      "outputs": []
    },
    {
      "cell_type": "markdown",
      "metadata": {
        "id": "UsyuJ9jhkDD4",
        "colab_type": "text"
      },
      "source": [
        "#1.\tAdd rollno and marks {name:mark} for n number of students through keyboard in a dictionary and print the marks in descending order with respective name.\n",
        "\n"
      ]
    },
    {
      "cell_type": "code",
      "metadata": {
        "id": "f09DYazukGeb",
        "colab_type": "code",
        "colab": {
          "base_uri": "https://localhost:8080/",
          "height": 136
        },
        "outputId": "823807b1-4bfb-412b-db3a-bab8bd1c1518"
      },
      "source": [
        "\n",
        "n=int(input(\"Enter no of records\"))\n",
        "d={}\n",
        "import operator\n",
        "for i in range(1,n+1):\n",
        "  name= input(\"Enter name %d\"%(i))\n",
        "  mark=int(input(\"Enter mark %d\"%(i)))\n",
        "  d[name]=mark\n",
        "print(\"input: \",d)\n",
        "sorted_a= sorted(d.items(), key=operator.itemgetter(1),reverse=True)\n",
        "print(\"output: \",sorted_a)"
      ],
      "execution_count": 1,
      "outputs": [
        {
          "output_type": "stream",
          "text": [
            "Enter no of records2\n",
            "Enter name 1riya\n",
            "Enter mark 150\n",
            "Enter name 2priya\n",
            "Enter mark 2100\n",
            "input:  {'riya': 50, 'priya': 100}\n",
            "output:  [('priya', 100), ('riya', 50)]\n"
          ],
          "name": "stdout"
        }
      ]
    },
    {
      "cell_type": "markdown",
      "metadata": {
        "id": "k_VAYgZ0kaJi",
        "colab_type": "text"
      },
      "source": [
        "#2.\tAdd  name and salary {name:salary} for n number of employees through keyboard in a dictionary and print them in name alphabetical order with salary\n",
        "\n"
      ]
    },
    {
      "cell_type": "code",
      "metadata": {
        "id": "_qWaRMzmkdb4",
        "colab_type": "code",
        "colab": {
          "base_uri": "https://localhost:8080/",
          "height": 136
        },
        "outputId": "41b6dfd5-e8e8-44f4-e5b1-4adfb20f7537"
      },
      "source": [
        "n=int(input(\"Enter no of records\"))\n",
        "d={}\n",
        "import operator\n",
        "for i in range(1,n+1):\n",
        "  name= input(\"Enter name %d\"%(i))\n",
        "  s=float(input(\"Enter salary %d\"%(i)))\n",
        "  d[name]=s\n",
        "print(\"input: \",d)\n",
        "sorted_a= sorted(d.items(), key=operator.itemgetter(0))\n",
        "print(\"output: \",sorted_a)"
      ],
      "execution_count": 2,
      "outputs": [
        {
          "output_type": "stream",
          "text": [
            "Enter no of records2\n",
            "Enter name 1riya\n",
            "Enter salary 130000\n",
            "Enter name 2priya\n",
            "Enter salary 250000\n",
            "input:  {'riya': 30000.0, 'priya': 50000.0}\n",
            "output:  [('priya', 50000.0), ('riya', 30000.0)]\n"
          ],
          "name": "stdout"
        }
      ]
    },
    {
      "cell_type": "markdown",
      "metadata": {
        "id": "BLy9UMy6kph5",
        "colab_type": "text"
      },
      "source": [
        "#3.\tAdd  name and salary {name:salary} for n number of employees through keyboard in a dictionary and print them in salary  ascending order and  sum, max, min and average of the salaries"
      ]
    },
    {
      "cell_type": "code",
      "metadata": {
        "id": "ZIq1qXPmkvdc",
        "colab_type": "code",
        "colab": {
          "base_uri": "https://localhost:8080/",
          "height": 204
        },
        "outputId": "e5bfdd95-5946-4000-df96-4c7606e81a38"
      },
      "source": [
        "n=int(input(\"Enter no of records\"))\n",
        "d={}\n",
        "import operator\n",
        "for i in range(1,n+1):\n",
        "  name= input(\"Enter name %d\"%(i))\n",
        "  s=float(input(\"Enter salary %d\"%(i)))\n",
        "  d[name]=s\n",
        "print(\"input: \",d)\n",
        "sorted_a= sorted(d.items(), key=operator.itemgetter(1))\n",
        "print(\"output: \",sorted_a)\n",
        "v = d.values()\n",
        "print(\"sum: \",sum(v))\n",
        "print(\"max: \",max(v))\n",
        "print(\"min: \",min(v))\n",
        "print(\"avg: \",(sum(v)/n))"
      ],
      "execution_count": 4,
      "outputs": [
        {
          "output_type": "stream",
          "text": [
            "Enter no of records2\n",
            "Enter name 1dia\n",
            "Enter salary 130000\n",
            "Enter name 2tia\n",
            "Enter salary 240000\n",
            "input:  {'dia': 30000.0, 'tia': 40000.0}\n",
            "output:  [('dia', 30000.0), ('tia', 40000.0)]\n",
            "sum:  70000.0\n",
            "max:  40000.0\n",
            "min:  30000.0\n",
            "avg:  35000.0\n"
          ],
          "name": "stdout"
        }
      ]
    },
    {
      "cell_type": "markdown",
      "metadata": {
        "id": "y6w89lqOlGIx",
        "colab_type": "text"
      },
      "source": [
        "#4.\tAdd name and salary {name:salary} for n number of employees through keyboard in a dictionary and print only the employees whose salary is greater than 2000 but less than 4000\n",
        "\n"
      ]
    },
    {
      "cell_type": "code",
      "metadata": {
        "id": "KpKh4VbilJnL",
        "colab_type": "code",
        "colab": {
          "base_uri": "https://localhost:8080/",
          "height": 136
        },
        "outputId": "6f643d27-8542-4e7c-cf64-020772263ef1"
      },
      "source": [
        "n=int(input(\"Enter no of records\"))\n",
        "d={}\n",
        "import operator\n",
        "for i in range(1,n+1):\n",
        "  name= input(\"Enter name %d\"%(i))\n",
        "  s=int(input(\"Enter salary %d\"%(i)))\n",
        "  d[name]=s\n",
        "print(\"input: \",d)\n",
        "for key,value in d.items():\n",
        "    if value>=2000 and value<=4000:\n",
        "         print(d[key],\"=\",key)"
      ],
      "execution_count": 5,
      "outputs": [
        {
          "output_type": "stream",
          "text": [
            "Enter no of records2\n",
            "Enter name 1tara\n",
            "Enter salary 13000\n",
            "Enter name 2sanvi\n",
            "Enter salary 25000\n",
            "input:  {'tara': 3000, 'sanvi': 5000}\n",
            "3000 = tara\n"
          ],
          "name": "stdout"
        }
      ]
    },
    {
      "cell_type": "markdown",
      "metadata": {
        "id": "QKalsalQlYV0",
        "colab_type": "text"
      },
      "source": [
        "#5.\tPython program to convert a 3 digit number  into words"
      ]
    },
    {
      "cell_type": "code",
      "metadata": {
        "id": "1j-hrxM6lbtD",
        "colab_type": "code",
        "colab": {
          "base_uri": "https://localhost:8080/",
          "height": 68
        },
        "outputId": "7fc9fcea-51b2-4cfa-dd12-849f4f4ac839"
      },
      "source": [
        "def convert_to_words(num):  \n",
        "    l = len(num);    \n",
        "    if (l == 0): \n",
        "        print(\"empty string\"); \n",
        "        return; \n",
        "  \n",
        "    if (l > 4): \n",
        "        print(\"Length more than 4 is not supported\"); \n",
        "        return;   \n",
        "    single_digits = [\"zero\", \"one\", \"two\", \"three\",  \n",
        "                     \"four\", \"five\", \"six\", \"seven\",  \n",
        "                     \"eight\", \"nine\"];  \n",
        "    two_digits = [\"\", \"ten\", \"eleven\", \"twelve\",  \n",
        "                  \"thirteen\", \"fourteen\", \"fifteen\",  \n",
        "                  \"sixteen\", \"seventeen\", \"eighteen\", \n",
        "                  \"nineteen\"];  \n",
        "    tens_multiple = [\"\", \"\", \"twenty\", \"thirty\", \"forty\", \n",
        "                     \"fifty\", \"sixty\", \"seventy\", \"eighty\",  \n",
        "                     \"ninety\"]; \n",
        "    tens_power = [\"hundred\", \"thousand\"];   \n",
        "    print(num, \":\", end = \" \");   \n",
        "    if (l == 1):  \n",
        "        print(single_digits[ord(num[0]) - '0']); \n",
        "        return;  \n",
        "    x = 0; \n",
        "    while (x < len(num)):    \n",
        "        if (l >= 3): \n",
        "            if (ord(num[x]) - 48 != 0): \n",
        "                print(single_digits[ord(num[x]) - 48],  \n",
        "                                           end = \" \"); \n",
        "                print(tens_power[l - 3], end = \" \");  \n",
        "                  \n",
        "            l -= 1; \n",
        "        else:   \n",
        "            if (ord(num[x]) - 48 == 1):  \n",
        "                sum = (ord(num[x]) - 48 + \n",
        "                       ord(num[x]) - 48); \n",
        "                print(two_digits[sum]); \n",
        "                return;   \n",
        "            elif (ord(num[x]) - 48 == 2 and \n",
        "                  ord(num[x + 1]) - 48 == 0): \n",
        "                print(\"twenty\"); \n",
        "                return;  \n",
        "            else: \n",
        "                i = ord(num[x]) - 48; \n",
        "                if(i > 0): \n",
        "                    print(tens_multiple[i], end = \" \"); \n",
        "                else: \n",
        "                    print(\"\", end = \"\"); \n",
        "                x += 1; \n",
        "                if(ord(num[x]) - 48 != 0): \n",
        "                    print(single_digits[ord(num[x]) - 48]); \n",
        "        x += 1;  \n",
        "convert_to_words(\"923\"); \n",
        "convert_to_words(\"523\"); \n",
        "convert_to_words(\"898\");"
      ],
      "execution_count": 6,
      "outputs": [
        {
          "output_type": "stream",
          "text": [
            "923 : nine hundred twenty three\n",
            "523 : five hundred twenty three\n",
            "898 : eight hundred ninety eight\n"
          ],
          "name": "stdout"
        }
      ]
    },
    {
      "cell_type": "markdown",
      "metadata": {
        "id": "FWs40nO1lkYr",
        "colab_type": "text"
      },
      "source": [
        "#1.Python Program to count the total number of charaters (except blank space) in a text file."
      ]
    },
    {
      "cell_type": "code",
      "metadata": {
        "id": "wxb2QfHClpzz",
        "colab_type": "code",
        "colab": {
          "base_uri": "https://localhost:8080/",
          "height": 51
        },
        "outputId": "4d536b32-f8ae-4ee3-973d-6457fa5492db"
      },
      "source": [
        "input_file = input(\"Enter File name : \")\n",
        "file_txt = open(input_file)\t\t\n",
        "text = file_txt.read()\t\t\t\n",
        "charc = 0\t\n",
        "for i in text:\t\t\t\t\n",
        "\tif(i != \" \" and i != \"\\n\" ):\n",
        "\t\t charc += 1\n",
        " \n",
        "print (\"total num of characters: \",charc);"
      ],
      "execution_count": 8,
      "outputs": [
        {
          "output_type": "stream",
          "text": [
            "Enter File name : /content/newfile.txt\n",
            "total num of characters:  112\n"
          ],
          "name": "stdout"
        }
      ]
    },
    {
      "cell_type": "markdown",
      "metadata": {
        "id": "mUI1XLejmRrz",
        "colab_type": "text"
      },
      "source": [
        "#2.Python Program to print all the numbers present in a text file with its total number of occurrence."
      ]
    },
    {
      "cell_type": "code",
      "metadata": {
        "id": "1_0Sisz1mTHk",
        "colab_type": "code",
        "colab": {
          "base_uri": "https://localhost:8080/",
          "height": 51
        },
        "outputId": "46fcd69a-a1bd-47a6-9682-0a560c3dc2bd"
      },
      "source": [
        "input_file = input(\"Enter File name : \")\n",
        "file_txt = open(input_file)\t\t\n",
        "text = file_txt.read()\t\n",
        "w = []\t\n",
        "d = dict() \n",
        "for line in text: \n",
        "    line = line.strip() \t\n",
        "    if(line.isdigit()):\n",
        "           w.append(line)\n",
        "for j in w:\n",
        "      if j in d:\n",
        "        d[j] = d[j] + 1\n",
        "      else: \n",
        "            d[j] = 1 \n",
        "for key in list(d.keys()): \n",
        "    print(key, \":\", d[key])"
      ],
      "execution_count": 10,
      "outputs": [
        {
          "output_type": "stream",
          "text": [
            "Enter File name : /content/newfile.txt\n",
            "3 : 1\n"
          ],
          "name": "stdout"
        }
      ]
    },
    {
      "cell_type": "markdown",
      "metadata": {
        "id": "TslhgztUmoPt",
        "colab_type": "text"
      },
      "source": [
        "#3.Python Program to append the contents of one file to another file "
      ]
    },
    {
      "cell_type": "code",
      "metadata": {
        "id": "Dv5FMPYImqDJ",
        "colab_type": "code",
        "colab": {
          "base_uri": "https://localhost:8080/",
          "height": 51
        },
        "outputId": "b2c96573-9431-4633-f295-bedff02503d3"
      },
      "source": [
        "\n",
        "name1 = input(\"Enter file to be read from: \")\n",
        "name2 = input(\"Enter file to be appended to: \")\n",
        "fin = open(name1, \"r\")\n",
        "data2 = fin.read()\n",
        "fin.close()\n",
        "fout = open(name2, \"a\")\n",
        "fout.write(data2)\n",
        "fout.close()"
      ],
      "execution_count": 11,
      "outputs": [
        {
          "output_type": "stream",
          "text": [
            "Enter file to be read from: /content/sample1.txt\n",
            "Enter file to be appended to: /content/sample2.txt\n"
          ],
          "name": "stdout"
        }
      ]
    },
    {
      "cell_type": "markdown",
      "metadata": {
        "id": "OoUUogb5nNzI",
        "colab_type": "text"
      },
      "source": [
        "#4.Python Program to count the number of blank spaces in a text file. "
      ]
    },
    {
      "cell_type": "code",
      "metadata": {
        "id": "OTW8Z6i5nRsI",
        "colab_type": "code",
        "colab": {
          "base_uri": "https://localhost:8080/",
          "height": 68
        },
        "outputId": "151e0497-949b-4b15-92de-d2449778a7bc"
      },
      "source": [
        "\n",
        "fname = input(\"Enter file name: \")\n",
        "k = 0\n",
        " \n",
        "with open(fname, 'r') as f:\n",
        "    for line in f:\n",
        "        words = line.split()\n",
        "        for i in words:\n",
        "            for letter in i:\n",
        "                if(letter.isspace):\n",
        "                    k=k+1\n",
        "print(\"Occurrences of blank spaces:\")\n",
        "print(k)"
      ],
      "execution_count": 12,
      "outputs": [
        {
          "output_type": "stream",
          "text": [
            "Enter file name: /content/newfile.txt\n",
            "Occurrences of blank spaces:\n",
            "110\n"
          ],
          "name": "stdout"
        }
      ]
    },
    {
      "cell_type": "markdown",
      "metadata": {
        "id": "Ym7uCdMInaAS",
        "colab_type": "text"
      },
      "source": [
        "#5.Python Program to read a file and capitalize the first letter of every word in the file and copy the every word capitalized content  into another file and read it ."
      ]
    },
    {
      "cell_type": "code",
      "metadata": {
        "id": "jo0GECDXndMB",
        "colab_type": "code",
        "colab": {
          "base_uri": "https://localhost:8080/",
          "height": 170
        },
        "outputId": "867d1890-a9d2-4e29-eace-bb4e93315f97"
      },
      "source": [
        "\n",
        "fname = input(\"Enter file name: \")\n",
        "with open(fname, 'r') as f:\n",
        "  with open(\"out.txt\", \"w\") as f1:\n",
        "    for line in f:\n",
        "        l=line.title()\n",
        "        f1.write(l)\n",
        "file2=open(\"out.txt\",'r')\n",
        "line=file2.readline()\n",
        "while(line!=\"\"):\n",
        "    print(line)\n",
        "    line=file2.readline()\n",
        "file2.close()"
      ],
      "execution_count": 13,
      "outputs": [
        {
          "output_type": "stream",
          "text": [
            "Enter file name: /content/newfile.txt\n",
            "My Name Is Hemalatha Sanil\n",
            "\n",
            "I Am A 3Rd Year Ece Student In Aiet\n",
            "\n",
            "I Am Attending Online Workshop On Python\n",
            "\n",
            "The Sessions Are Good And Useful\n",
            "\n"
          ],
          "name": "stdout"
        }
      ]
    }
  ]
}